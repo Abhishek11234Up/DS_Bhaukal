{
 "cells": [
  {
   "cell_type": "code",
   "execution_count": 2,
   "id": "4ecee40f-3903-48cb-b975-110e92efbbbe",
   "metadata": {},
   "outputs": [],
   "source": [
    "x = 2\n",
    "y = \"Amit\"\n",
    "z = 99.5\n",
    "a = 7728041227"
   ]
  },
  {
   "cell_type": "code",
   "execution_count": 3,
   "id": "4604a81e-1d8d-4b98-a749-13f37eb87a3e",
   "metadata": {},
   "outputs": [
    {
     "name": "stdout",
     "output_type": "stream",
     "text": [
      "140736361382728\n",
      "2575242634352\n",
      "2575241710992\n",
      "2575241719792\n"
     ]
    }
   ],
   "source": [
    "# id() --> to get the location of variable\n",
    "print(id(x))\n",
    "print(id(y))\n",
    "print(id(z))\n",
    "print(id(a))"
   ]
  },
  {
   "cell_type": "code",
   "execution_count": 4,
   "id": "46d9a90c-cdde-48af-a18d-197f5be21bdb",
   "metadata": {},
   "outputs": [
    {
     "name": "stdout",
     "output_type": "stream",
     "text": [
      "2\n"
     ]
    }
   ],
   "source": [
    "print(x)"
   ]
  },
  {
   "cell_type": "code",
   "execution_count": 5,
   "id": "e3506f03-7d7c-4bad-876b-ed5e14d6027b",
   "metadata": {},
   "outputs": [
    {
     "name": "stdout",
     "output_type": "stream",
     "text": [
      "Amit\n"
     ]
    }
   ],
   "source": [
    "print(y)"
   ]
  },
  {
   "cell_type": "code",
   "execution_count": 8,
   "id": "121ed73d-3d84-49e1-bbc4-c2174be298b1",
   "metadata": {},
   "outputs": [
    {
     "name": "stdout",
     "output_type": "stream",
     "text": [
      "<class 'str'>\n",
      "<class 'int'>\n"
     ]
    }
   ],
   "source": [
    "# type() --> you can get the data type of a variable.\n",
    "print(type(y))  ## this style of printing is not recommended.\n",
    "\n",
    "# you need to code with best practices.\n",
    "print(type(x))"
   ]
  },
  {
   "cell_type": "code",
   "execution_count": 9,
   "id": "70e1322f-76c8-43a7-a65e-880db817a8b4",
   "metadata": {},
   "outputs": [],
   "source": [
    "import keyword"
   ]
  },
  {
   "cell_type": "code",
   "execution_count": 10,
   "id": "d56ca060-dc08-4141-9dec-a07260d1584b",
   "metadata": {},
   "outputs": [
    {
     "name": "stdout",
     "output_type": "stream",
     "text": [
      "['False', 'None', 'True', 'and', 'as', 'assert', 'async', 'await', 'break', 'class', 'continue', 'def', 'del', 'elif', 'else', 'except', 'finally', 'for', 'from', 'global', 'if', 'import', 'in', 'is', 'lambda', 'nonlocal', 'not', 'or', 'pass', 'raise', 'return', 'try', 'while', 'with', 'yield']\n"
     ]
    }
   ],
   "source": [
    "print(keyword.kwlist)"
   ]
  },
  {
   "cell_type": "code",
   "execution_count": 11,
   "id": "72d09e80-e8c1-4705-8fb2-19f79b21531e",
   "metadata": {},
   "outputs": [],
   "source": [
    "Amit = \"Abhishek\""
   ]
  },
  {
   "cell_type": "code",
   "execution_count": null,
   "id": "7fae99c9-3b67-41f2-995f-5c321dab61ec",
   "metadata": {},
   "outputs": [],
   "source": []
  }
 ],
 "metadata": {
  "kernelspec": {
   "display_name": "Python 3 (ipykernel)",
   "language": "python",
   "name": "python3"
  },
  "language_info": {
   "codemirror_mode": {
    "name": "ipython",
    "version": 3
   },
   "file_extension": ".py",
   "mimetype": "text/x-python",
   "name": "python",
   "nbconvert_exporter": "python",
   "pygments_lexer": "ipython3",
   "version": "3.11.7"
  }
 },
 "nbformat": 4,
 "nbformat_minor": 5
}
