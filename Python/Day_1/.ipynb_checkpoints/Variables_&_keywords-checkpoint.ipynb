{
 "cells": [
  {
   "cell_type": "code",
   "execution_count": 1,
   "id": "4ecee40f-3903-48cb-b975-110e92efbbbe",
   "metadata": {},
   "outputs": [],
   "source": [
    "x = 2\n",
    "y = \"Amit\"\n",
    "z = 99.5\n",
    "a = 7728041227"
   ]
  },
  {
   "cell_type": "code",
   "execution_count": null,
   "id": "4604a81e-1d8d-4b98-a749-13f37eb87a3e",
   "metadata": {},
   "outputs": [],
   "source": []
  }
 ],
 "metadata": {
  "kernelspec": {
   "display_name": "Python 3 (ipykernel)",
   "language": "python",
   "name": "python3"
  },
  "language_info": {
   "codemirror_mode": {
    "name": "ipython",
    "version": 3
   },
   "file_extension": ".py",
   "mimetype": "text/x-python",
   "name": "python",
   "nbconvert_exporter": "python",
   "pygments_lexer": "ipython3",
   "version": "3.11.7"
  }
 },
 "nbformat": 4,
 "nbformat_minor": 5
}
