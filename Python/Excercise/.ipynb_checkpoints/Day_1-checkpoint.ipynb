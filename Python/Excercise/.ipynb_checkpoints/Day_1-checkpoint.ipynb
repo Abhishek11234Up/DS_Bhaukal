{
 "cells": [
  {
   "cell_type": "code",
   "execution_count": 1,
   "id": "31454dd5-875d-49c3-9444-84975e7cb616",
   "metadata": {},
   "outputs": [],
   "source": [
    "# 010 There are 2,204 pounds in a kilogram. Ask the user to enter a weight in kilograms and convert it to pounds."
   ]
  },
  {
   "cell_type": "code",
   "execution_count": 2,
   "id": "2cde0f37-59fb-441c-8c5c-9d759b248a07",
   "metadata": {},
   "outputs": [
    {
     "name": "stdin",
     "output_type": "stream",
     "text": [
      "Enter the number of kilos:  2\n"
     ]
    },
    {
     "name": "stdout",
     "output_type": "stream",
     "text": [
      "That is 4.408 pounds.\n"
     ]
    }
   ],
   "source": [
    "kilo = int(input(\"Enter the number of kilos: \"))\n",
    "\n",
    "pound = kilo * 2.204\n",
    "\n",
    "print(\"That is\", pound,\"pounds.\")"
   ]
  },
  {
   "cell_type": "code",
   "execution_count": 3,
   "id": "a56a5e1d-57e0-4cc6-bc7f-043a12a9a5a3",
   "metadata": {},
   "outputs": [],
   "source": [
    "# 011 Task the user to enter a number over 100 and then enter a number under\n",
    "# 10 and tell them how many times the smaller number goes into the larger number in a user-friendly format."
   ]
  },
  {
   "cell_type": "code",
   "execution_count": 4,
   "id": "4cc15eaa-e3d7-40a1-abb5-9ad893392a69",
   "metadata": {},
   "outputs": [
    {
     "name": "stdin",
     "output_type": "stream",
     "text": [
      "Please enter a number greater than 100:  108\n",
      "Please enter a number less than 10:  2\n"
     ]
    },
    {
     "name": "stdout",
     "output_type": "stream",
     "text": [
      "2 goes into 108 54 times.\n"
     ]
    }
   ],
   "source": [
    "# Prompt the user to enter a number greater than 100\n",
    "large_number = int(input(\"Please enter a number greater than 100: \"))\n",
    "\n",
    "# Prompt the user to enter a number less than 10\n",
    "small_number = int(input(\"Please enter a number less than 10: \"))\n",
    "\n",
    "# Calculate how many times the smaller number goes into the larger number\n",
    "result = large_number // small_number\n",
    "\n",
    "# Display the result in a user-friendly format\n",
    "print(small_number,\"goes into\", large_number, result, \"times.\")"
   ]
  },
  {
   "cell_type": "code",
   "execution_count": null,
   "id": "f9b21fee-0896-4f1c-a2fa-d03dab27b7ed",
   "metadata": {},
   "outputs": [],
   "source": []
  }
 ],
 "metadata": {
  "kernelspec": {
   "display_name": "Python 3 (ipykernel)",
   "language": "python",
   "name": "python3"
  },
  "language_info": {
   "codemirror_mode": {
    "name": "ipython",
    "version": 3
   },
   "file_extension": ".py",
   "mimetype": "text/x-python",
   "name": "python",
   "nbconvert_exporter": "python",
   "pygments_lexer": "ipython3",
   "version": "3.11.7"
  }
 },
 "nbformat": 4,
 "nbformat_minor": 5
}
