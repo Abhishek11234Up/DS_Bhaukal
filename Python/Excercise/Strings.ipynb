{
 "cells": [
  {
   "cell_type": "code",
   "execution_count": 1,
   "id": "734e3510-ccfe-476c-a90d-45ababe7f604",
   "metadata": {},
   "outputs": [],
   "source": [
    "# 023 Ask the user to type in the first line of a nursery\n",
    "# rhyme and display the length of the string. Ask for a\n",
    "# starting number and an ending number and then display\n",
    "# just that section of the text (remember Python starts\n",
    "# counting from 0 and not 1)."
   ]
  },
  {
   "cell_type": "code",
   "execution_count": 2,
   "id": "bb4a4755-05d4-4d19-b574-eb28f93e3077",
   "metadata": {},
   "outputs": [
    {
     "name": "stdin",
     "output_type": "stream",
     "text": [
      "Please enter the first line of nursery rhyme:  Jhonny Jhonny Yes Papa\n",
      "Enter the starting number:  0\n",
      "Enter the ending number:  6\n"
     ]
    },
    {
     "name": "stdout",
     "output_type": "stream",
     "text": [
      "Jhonny\n"
     ]
    }
   ],
   "source": [
    "firstline = input(\"Please enter the first line of nursery rhyme: \")\n",
    "\n",
    "length = len(firstline)\n",
    "\n",
    "starting_no = int(input(\"Enter the starting number: \"))\n",
    "\n",
    "ending_no = int(input(\"Enter the ending number: \"))\n",
    "\n",
    "part = (firstline[starting_no : ending_no])\n",
    "\n",
    "print(part)"
   ]
  },
  {
   "cell_type": "code",
   "execution_count": 3,
   "id": "f7466741-30c6-4f21-96af-50ee9bc190e0",
   "metadata": {},
   "outputs": [],
   "source": [
    "# 025 Ask the user to enter their first name. If the length of\n",
    "# their first name is under five characters, ask them to enter\n",
    "# their surname and join them together (without a space)\n",
    "# and display the name in upper case. If the length of the\n",
    "# first name is five or more characters, display their first\n",
    "# name in lower case."
   ]
  },
  {
   "cell_type": "code",
   "execution_count": 5,
   "id": "d1ea7dc8-fb43-43e5-b2c5-d13907d74b4f",
   "metadata": {},
   "outputs": [
    {
     "name": "stdin",
     "output_type": "stream",
     "text": [
      "Enter your first name:  Abhishek\n"
     ]
    },
    {
     "name": "stdout",
     "output_type": "stream",
     "text": [
      "abhishek\n"
     ]
    }
   ],
   "source": [
    "f_name = input(\"Enter your first name: \")\n",
    "\n",
    "if len(f_name) < 5:\n",
    "    surname = input(\"Enter your last name: \")\n",
    "    full_n = (f_name + surname).upper()\n",
    "    print(full_n)\n",
    "else:\n",
    "    print(f_name.lower())"
   ]
  },
  {
   "cell_type": "code",
   "execution_count": 6,
   "id": "0602514b-f79d-49ac-af45-2591b73c6cfa",
   "metadata": {},
   "outputs": [],
   "source": [
    "# 026 Pig Latin takes the first consonant of a word, moves it\n",
    "# to the end of the word and adds on an “ay”. If a word\n",
    "# begins with a vowel you just add “way” to the end. For\n",
    "# example, pig becomes igpay, banana becomes ananabay,\n",
    "# and aadvark becomes aadvarkway. Create a program that\n",
    "# will ask the user to enter a word and change it into Pig\n",
    "# Latin. Make sure the new word is displayed in lower case."
   ]
  },
  {
   "cell_type": "code",
   "execution_count": 9,
   "id": "4737938b-cfe0-49f2-a78c-61cedf78dcd6",
   "metadata": {},
   "outputs": [
    {
     "name": "stdin",
     "output_type": "stream",
     "text": [
      "Enter a word word\n"
     ]
    },
    {
     "name": "stdout",
     "output_type": "stream",
     "text": [
      "ordway\n"
     ]
    }
   ],
   "source": [
    "word = input(\"Enter a word\")\n",
    "\n",
    "first = word[0]\n",
    "\n",
    "length = len(word)\n",
    "\n",
    "rest = word[1:length]\n",
    "\n",
    "if first != \"a\" and first != \"e\" and first != \"i\" and first != \"o\" and first != \"u\":\n",
    "    newword = rest + first + \"ay\"\n",
    "else:\n",
    "    newword = word + \"way\"\n",
    "\n",
    "print(newword.lower())"
   ]
  },
  {
   "cell_type": "code",
   "execution_count": null,
   "id": "21239d82-959e-43e9-97e0-5bcf7c2cc1d6",
   "metadata": {},
   "outputs": [],
   "source": []
  }
 ],
 "metadata": {
  "kernelspec": {
   "display_name": "Python 3 (ipykernel)",
   "language": "python",
   "name": "python3"
  },
  "language_info": {
   "codemirror_mode": {
    "name": "ipython",
    "version": 3
   },
   "file_extension": ".py",
   "mimetype": "text/x-python",
   "name": "python",
   "nbconvert_exporter": "python",
   "pygments_lexer": "ipython3",
   "version": "3.11.7"
  }
 },
 "nbformat": 4,
 "nbformat_minor": 5
}
