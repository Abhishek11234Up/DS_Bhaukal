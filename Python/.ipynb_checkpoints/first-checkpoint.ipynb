{
 "cells": [
  {
   "cell_type": "markdown",
   "id": "ddcffbf3-dd13-4c85-b66f-2fc5a6ae3363",
   "metadata": {},
   "source": [
    "## Basic Intro about jupyter and python"
   ]
  },
  {
   "cell_type": "code",
   "execution_count": 1,
   "id": "3e5d8ebc-18f9-44ac-9621-d0d378b969a1",
   "metadata": {},
   "outputs": [
    {
     "name": "stdout",
     "output_type": "stream",
     "text": [
      "Hello, World!\n"
     ]
    }
   ],
   "source": [
    "print(\"Hello, World!\")"
   ]
  },
  {
   "cell_type": "code",
   "execution_count": 2,
   "id": "da721150-6238-45bf-88f1-121567b6c5ff",
   "metadata": {},
   "outputs": [
    {
     "name": "stdout",
     "output_type": "stream",
     "text": [
      "5\n"
     ]
    }
   ],
   "source": [
    "print(2+3)"
   ]
  },
  {
   "cell_type": "code",
   "execution_count": 4,
   "id": "7c763fdd-c846-41bc-9508-c8a92da608ad",
   "metadata": {},
   "outputs": [
    {
     "data": {
      "text/plain": [
       "6"
      ]
     },
     "execution_count": 4,
     "metadata": {},
     "output_type": "execute_result"
    }
   ],
   "source": [
    "# This is not the best practise\n",
    "2*3"
   ]
  },
  {
   "cell_type": "code",
   "execution_count": 5,
   "id": "5f37bc54-1342-4b99-af63-60a558ab293b",
   "metadata": {},
   "outputs": [],
   "source": [
    "# bhai mai comment hu aur code k sth output me ni dikhunga"
   ]
  },
  {
   "cell_type": "code",
   "execution_count": 6,
   "id": "aca631e0-1ab7-47e9-b363-e84a983b6d47",
   "metadata": {},
   "outputs": [
    {
     "name": "stdout",
     "output_type": "stream",
     "text": [
      "Dekho\n"
     ]
    }
   ],
   "source": [
    "'''Multi\n",
    "Line\n",
    "comment'''\n",
    "\n",
    "\"\"\"Multi\n",
    "Line\n",
    "comment\"\"\"\n",
    "\n",
    "print(\"Dekho\")"
   ]
  }
 ],
 "metadata": {
  "kernelspec": {
   "display_name": "Python 3 (ipykernel)",
   "language": "python",
   "name": "python3"
  },
  "language_info": {
   "codemirror_mode": {
    "name": "ipython",
    "version": 3
   },
   "file_extension": ".py",
   "mimetype": "text/x-python",
   "name": "python",
   "nbconvert_exporter": "python",
   "pygments_lexer": "ipython3",
   "version": "3.11.7"
  }
 },
 "nbformat": 4,
 "nbformat_minor": 5
}
