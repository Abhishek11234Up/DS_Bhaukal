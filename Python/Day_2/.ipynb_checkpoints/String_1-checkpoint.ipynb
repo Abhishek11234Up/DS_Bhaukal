{
 "cells": [
  {
   "cell_type": "code",
   "execution_count": 1,
   "id": "1b60c786-6077-4fe0-85cc-ff402c0ce4bd",
   "metadata": {},
   "outputs": [],
   "source": [
    "a = \"abhishek\""
   ]
  },
  {
   "cell_type": "code",
   "execution_count": 2,
   "id": "a5f60fd9-5a96-4daa-89bb-14c3ec522e39",
   "metadata": {},
   "outputs": [
    {
     "name": "stdout",
     "output_type": "stream",
     "text": [
      "8\n"
     ]
    }
   ],
   "source": [
    "print(len(a))"
   ]
  },
  {
   "cell_type": "code",
   "execution_count": 8,
   "id": "8f795469-9ee6-44a3-9e22-1182b539524a",
   "metadata": {},
   "outputs": [
    {
     "name": "stdout",
     "output_type": "stream",
     "text": [
      "a\n",
      "b\n",
      "h\n",
      "i\n",
      "s\n",
      "h\n",
      "e\n",
      "k\n"
     ]
    }
   ],
   "source": [
    "for u in a:\n",
    "    print(u)"
   ]
  }
 ],
 "metadata": {
  "kernelspec": {
   "display_name": "Python 3 (ipykernel)",
   "language": "python",
   "name": "python3"
  },
  "language_info": {
   "codemirror_mode": {
    "name": "ipython",
    "version": 3
   },
   "file_extension": ".py",
   "mimetype": "text/x-python",
   "name": "python",
   "nbconvert_exporter": "python",
   "pygments_lexer": "ipython3",
   "version": "3.11.7"
  }
 },
 "nbformat": 4,
 "nbformat_minor": 5
}
