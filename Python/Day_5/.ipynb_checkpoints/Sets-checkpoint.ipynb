{
 "cells": [
  {
   "cell_type": "code",
   "execution_count": 2,
   "id": "9ac25fc8-8f4b-4199-9d08-fd258e44b11d",
   "metadata": {},
   "outputs": [],
   "source": [
    "my_set = {1, 2, 0, 3, 4+5j, 3.141, True, 2, False}"
   ]
  },
  {
   "cell_type": "code",
   "execution_count": 3,
   "id": "8ae20c6e-3a89-4960-bef8-cf7f4777740b",
   "metadata": {},
   "outputs": [
    {
     "name": "stdout",
     "output_type": "stream",
     "text": [
      "<class 'set'>\n"
     ]
    }
   ],
   "source": [
    "print(type(my_set))"
   ]
  },
  {
   "cell_type": "code",
   "execution_count": 4,
   "id": "ac88043c-c20d-4f9a-a898-a3faea45cf42",
   "metadata": {},
   "outputs": [
    {
     "name": "stdout",
     "output_type": "stream",
     "text": [
      "6\n"
     ]
    }
   ],
   "source": [
    "print(len(my_set))"
   ]
  },
  {
   "cell_type": "code",
   "execution_count": 5,
   "id": "4e01087c-62fa-4235-bfa2-bf653702914e",
   "metadata": {},
   "outputs": [
    {
     "name": "stdout",
     "output_type": "stream",
     "text": [
      "{0, 1, 2, 3, 3.141, (4+5j)}\n"
     ]
    }
   ],
   "source": [
    "print(my_set)"
   ]
  },
  {
   "cell_type": "code",
   "execution_count": 6,
   "id": "7a7b371b-edd6-40dd-8594-81aeed7c2df2",
   "metadata": {},
   "outputs": [
    {
     "name": "stdout",
     "output_type": "stream",
     "text": [
      "0\n",
      "1\n",
      "2\n",
      "3\n",
      "3.141\n",
      "(4+5j)\n"
     ]
    }
   ],
   "source": [
    "for z in my_set:\n",
    "    print(z)"
   ]
  },
  {
   "cell_type": "code",
   "execution_count": 7,
   "id": "2fe8cb14-1215-446e-b4d6-f22c9300305d",
   "metadata": {},
   "outputs": [],
   "source": [
    "my_set = {3, 4+5j, 3.141, True, 2, False, 1, 0}"
   ]
  },
  {
   "cell_type": "code",
   "execution_count": 8,
   "id": "8778a047-4190-4ab7-84b3-d016f8a89ca5",
   "metadata": {},
   "outputs": [
    {
     "data": {
      "text/plain": [
       "6"
      ]
     },
     "execution_count": 8,
     "metadata": {},
     "output_type": "execute_result"
    }
   ],
   "source": [
    "len(my_set)"
   ]
  },
  {
   "cell_type": "code",
   "execution_count": 9,
   "id": "2cf77c33-d36d-439c-81c6-a2ca6d8180a1",
   "metadata": {},
   "outputs": [
    {
     "name": "stdout",
     "output_type": "stream",
     "text": [
      "{False, True, 2, 3.141, 3, (4+5j)}\n"
     ]
    }
   ],
   "source": [
    "print(my_set)"
   ]
  },
  {
   "cell_type": "code",
   "execution_count": null,
   "id": "9ec70e43-6904-4c12-858b-48a84cef5512",
   "metadata": {},
   "outputs": [],
   "source": []
  }
 ],
 "metadata": {
  "kernelspec": {
   "display_name": "Python 3 (ipykernel)",
   "language": "python",
   "name": "python3"
  },
  "language_info": {
   "codemirror_mode": {
    "name": "ipython",
    "version": 3
   },
   "file_extension": ".py",
   "mimetype": "text/x-python",
   "name": "python",
   "nbconvert_exporter": "python",
   "pygments_lexer": "ipython3",
   "version": "3.11.7"
  }
 },
 "nbformat": 4,
 "nbformat_minor": 5
}
